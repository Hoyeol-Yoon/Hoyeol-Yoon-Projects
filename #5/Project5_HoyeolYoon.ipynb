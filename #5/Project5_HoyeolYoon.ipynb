{
 "cells": [
  {
   "cell_type": "code",
   "execution_count": 1,
   "id": "d7b2dcba-b4a8-4947-8536-9c7af7afcb7d",
   "metadata": {},
   "outputs": [
    {
     "data": {
      "text/plain": [
       "solve_esp (generic function with 1 method)"
      ]
     },
     "execution_count": 1,
     "metadata": {},
     "output_type": "execute_result"
    }
   ],
   "source": [
    "### Q2.\n",
    "## Load packages \n",
    "using JuMP, HiGHS, Random, Distributions\n",
    "\n",
    "## Define the data\n",
    "T = 14\n",
    "r_employees = 1:10\n",
    "r_employees_names = [:A, :B, :C, :D, :E, :F, :G, :H, :I, :J]\n",
    "r_salary = [135, 150, 165, 150, 165, 135, 165, 150, 135, 150]\n",
    "r_prod = [25, 30, 35, 30, 35, 25, 35, 30, 25, 30]\n",
    "\n",
    "p_salary = 40\n",
    "p_prod = 10\n",
    "\n",
    "## Define function for solving employees scheduling problem\n",
    "function solve_esp(demandscens)\n",
    "\n",
    "    # Calculate the number of given scenarios\n",
    "    numscen = size(demandscens, 2)\n",
    "    scenarios = 1:numscen\n",
    "    \n",
    "    # Create the model\n",
    "    m = Model()\n",
    "\n",
    "    # Declare all the decision variables\n",
    "    @variable(m, s_regular[r_employees, 1:T], Bin)\n",
    "    @variable(m, s_part[1:T, scenarios] >= 0)\n",
    "\n",
    "    # Define the objective\n",
    "    @objective(m, Min, sum(r_salary[i]*s_regular[i,t] for i in r_employees, t in 1:T)\n",
    "        + 1/numscen*sum(p_salary*s_part[t,s] for t in 1:T, s in scenarios))\n",
    "\n",
    "    # Write all the constraints\n",
    "    @constraint(m, s_meetdemand[t in 1:T, s in scenarios],\n",
    "        p_prod*s_part[t,s] + sum(r_prod[i]*s_regular[i,t] for i in r_employees) >= demandscens[t,s])\n",
    "\n",
    "    @constraint(m, s_regular_day_lhs[i in r_employees, w in 1:div(T,7)],\n",
    "        4 <= sum(s_regular[i,t] for t in 7*w-6:7*w))\n",
    "\n",
    "    @constraint(m, s_regular_day_rhs[i in r_employees, w in 1:div(T,7)],\n",
    "        sum(s_regular[i,t] for t in 7*w-6:7*w) <= 6)\n",
    "\n",
    "    @constraint(m, s_regular_conti[i in r_employees, d in 1:T-3],\n",
    "        sum(s_regular[i,t] for t in d:d+3) <= 3)\n",
    "\n",
    "    # Set optimizer and solve the model\n",
    "    set_optimizer(m, HiGHS.Optimizer)\n",
    "    set_silent(m)\n",
    "    optimize!(m)\n",
    "\n",
    "    # Print Solution time and expected cost\n",
    "    println(\"Solution time: \", solve_time(m))\n",
    "    println(\"Optimal value: \", objective_value(m))\n",
    "\n",
    "    # Return objective value and x_values for problem 4\n",
    "    return objective_value(m), value.(s_regular)\n",
    "end"
   ]
  },
  {
   "cell_type": "code",
   "execution_count": 2,
   "id": "3413cb2c-e23a-4c0d-9565-1d6d48afd216",
   "metadata": {},
   "outputs": [
    {
     "name": "stdout",
     "output_type": "stream",
     "text": [
      "Solution time: 1.9818439483642578\n",
      "Optimal value: 15039.04\n"
     ]
    },
    {
     "data": {
      "text/plain": [
       "(15039.04, 2-dimensional DenseAxisArray{Float64,2,...} with index sets:\n",
       "    Dimension 1, 1:10\n",
       "    Dimension 2, Base.OneTo(14)\n",
       "And data, a 10×14 Matrix{Float64}:\n",
       "  1.0                 0.0  1.0  1.0  -0.0                 …  0.0  1.0  -0.0\n",
       "  1.000000000000003  -0.0  0.0  1.0   1.0                    1.0  0.0   1.0\n",
       "  1.0                 0.0  1.0  1.0   1.0                    1.0  0.0   0.0\n",
       "  0.0                 0.0  1.0  1.0  -0.0                    1.0  0.0   1.0\n",
       "  1.0                 1.0  0.0  0.0   1.0                    1.0  0.0  -0.0\n",
       "  0.0                 0.0  1.0  1.0   0.9999999999999993  …  0.0  1.0   1.0\n",
       "  1.0                 1.0  0.0  0.0   0.0                    1.0  1.0   1.0\n",
       "  0.0                 1.0  0.0  0.0   1.0                    0.0  1.0   0.0\n",
       "  0.0                 1.0  1.0  1.0   0.0                    0.0  1.0   1.0\n",
       " -0.0                 1.0  1.0  0.0   1.0                    0.0  1.0   1.0)"
      ]
     },
     "execution_count": 2,
     "metadata": {},
     "output_type": "execute_result"
    }
   ],
   "source": [
    "### Q2. Small sample size\n",
    "\n",
    "## Set seed\n",
    "Random.seed!(502)\n",
    "\n",
    "## Define sample size\n",
    "numscen_1 = 100\n",
    "scenarios_1 = 1:numscen_1\n",
    "\n",
    "## Generate random numbers for scenarios\n",
    "demandscens_1 = Array{Float64}(undef,T,numscen_1)\n",
    "for s in scenarios_1\n",
    "    for t in 1:T\n",
    "        demandscens_1[t,s] = round(rand(Normal(225,20)),digits=0)\n",
    "    end\n",
    "end\n",
    "\n",
    "## Solve the problem\n",
    "solve_esp(demandscens_1)"
   ]
  },
  {
   "cell_type": "code",
   "execution_count": 3,
   "id": "d7a06d68-ae31-46a1-90f0-549b8eb3c85a",
   "metadata": {},
   "outputs": [
    {
     "name": "stdout",
     "output_type": "stream",
     "text": [
      "Solution time: 2.733991861343384\n",
      "Optimal value: 14997.599999999999\n"
     ]
    },
    {
     "data": {
      "text/plain": [
       "(14997.599999999999, 2-dimensional DenseAxisArray{Float64,2,...} with index sets:\n",
       "    Dimension 1, 1:10\n",
       "    Dimension 2, Base.OneTo(14)\n",
       "And data, a 10×14 Matrix{Float64}:\n",
       " 1.0  0.0   0.9999999999999979  1.0  …   0.0\n",
       " 0.0  1.0   0.0                 1.0      1.0\n",
       " 1.0  1.0   0.0                 0.0      1.0\n",
       " 1.0  0.0  -0.0                 0.0      1.0\n",
       " 0.0  1.0   1.0                 1.0      1.0\n",
       " 1.0  0.0   1.0                 1.0  …   0.0\n",
       " 0.0  1.0   1.0                 0.0      0.0\n",
       " 1.0  0.0   0.0                 1.0      1.0\n",
       " 1.0  0.0   1.0000000000000016  1.0      0.0\n",
       " 0.0  1.0   1.0                 0.0     -9.239311256105938e-15)"
      ]
     },
     "execution_count": 3,
     "metadata": {},
     "output_type": "execute_result"
    }
   ],
   "source": [
    "### Q2. Medium sample size\n",
    "\n",
    "## Set seed\n",
    "Random.seed!(502)\n",
    "\n",
    "## Define sample size\n",
    "numscen_2 = 200\n",
    "scenarios_2 = 1:numscen_2\n",
    "\n",
    "## Generate random numbers for scenarios\n",
    "demandscens_2 = Array{Float64}(undef,T,numscen_2)\n",
    "for s in scenarios_2\n",
    "    for t in 1:T\n",
    "        demandscens_2[t,s] = round(rand(Normal(225,20)),digits=0)\n",
    "    end\n",
    "end\n",
    "\n",
    "## Solve the problem\n",
    "solve_esp(demandscens_2)"
   ]
  },
  {
   "cell_type": "code",
   "execution_count": 4,
   "id": "57f42c0d-0d78-4500-8c9a-e916e8443972",
   "metadata": {},
   "outputs": [
    {
     "name": "stdout",
     "output_type": "stream",
     "text": [
      "Solution time: 6.247933864593506\n",
      "Optimal value: 15008.09333333332\n"
     ]
    },
    {
     "data": {
      "text/plain": [
       "(15008.09333333332, 2-dimensional DenseAxisArray{Float64,2,...} with index sets:\n",
       "    Dimension 1, 1:10\n",
       "    Dimension 2, Base.OneTo(14)\n",
       "And data, a 10×14 Matrix{Float64}:\n",
       " 0.0  1.0  -0.0  1.0  -0.0  1.0  1.0  0.0  …   1.0                     1.0\n",
       " 1.0  0.0   1.0  1.0   0.0  0.0  1.0  0.0     -0.0                     1.0\n",
       " 1.0  1.0  -0.0  0.0   1.0  1.0  0.0  0.0     -2.582458038982745e-13   1.0\n",
       " 1.0  0.0   0.0  1.0   1.0  0.0  1.0  0.0     -3.2187585929932536e-13  1.0\n",
       " 1.0  1.0  -0.0  0.0   1.0  1.0  0.0  1.0      5.67323965583455e-14    0.0\n",
       " 0.0  1.0   1.0  0.0   0.0  1.0  1.0  1.0  …   1.0                     1.0\n",
       " 1.0  0.0   1.0  1.0  -0.0  0.0  1.0  1.0      1.0                     0.0\n",
       " 0.0  1.0   1.0  0.0   1.0  1.0  0.0  1.0      1.0                     1.0\n",
       " 0.0  1.0   1.0  1.0   0.0  1.0  0.0  1.0      1.0                     0.0\n",
       " 0.0  0.0   1.0  1.0   1.0  0.0  1.0  1.0      1.0                     0.0)"
      ]
     },
     "execution_count": 4,
     "metadata": {},
     "output_type": "execute_result"
    }
   ],
   "source": [
    "### Q2. Large sample size\n",
    "\n",
    "## Set seed\n",
    "Random.seed!(502)\n",
    "\n",
    "## Define sample size\n",
    "numscen_3 = 300\n",
    "scenarios_3 = 1:numscen_3\n",
    "\n",
    "## Generate random numbers for scenarios\n",
    "demandscens_3 = Array{Float64}(undef,T,numscen_3)\n",
    "for s in scenarios_3\n",
    "    for t in 1:T\n",
    "        demandscens_3[t,s] = round(rand(Normal(225,20)),digits=0)\n",
    "    end\n",
    "end\n",
    "\n",
    "## Solve the problem\n",
    "solve_esp(demandscens_3)"
   ]
  },
  {
   "cell_type": "code",
   "execution_count": 5,
   "id": "8730a751-f4df-4680-8a3c-1a79fd140889",
   "metadata": {},
   "outputs": [
    {
     "data": {
      "text/plain": [
       "solve_esp_risk (generic function with 1 method)"
      ]
     },
     "execution_count": 5,
     "metadata": {},
     "output_type": "execute_result"
    }
   ],
   "source": [
    "### Q3. Risk Averse Model\n",
    "\n",
    "## Define function for solving employees scheduling problem considering risk measures \n",
    "function solve_esp_risk(option)\n",
    "    # Set risk parameter\n",
    "    lambda = 1\n",
    "\n",
    "    # Set seed\n",
    "    Random.seed!(502) \n",
    "\n",
    "    # Define sample size\n",
    "    numscen = 300\n",
    "    scenarios = 1:numscen\n",
    "\n",
    "    # Generate random numbers for scenarios\n",
    "    demandscens=Array{Float64}(undef,T,numscen)\n",
    "    for s in scenarios\n",
    "        for t in 1:T\n",
    "            demandscens[t,s]=round(rand(Normal(225,20)),digits=0)\n",
    "        end\n",
    "    end\n",
    "\n",
    "    # Create the model\n",
    "    m_msd = Model()\n",
    "\n",
    "    # Declare all the decision variables\n",
    "    @variable(m_msd, s_regular[r_employees, 1:T], Bin)\n",
    "    @variable(m_msd, s_part[1:T, scenarios] >= 0)\n",
    "\n",
    "    @variable(m_msd, s_re_cost[scenarios] >= 0)\n",
    "    @variable(m_msd, s_mean_cost >= 0)\n",
    "    @variable(m_msd, s_max[scenarios] >= 0)\n",
    "\n",
    "    # Define the objective\n",
    "    # If choose option 1, using the expected value as objective \n",
    "    if option == 1\n",
    "        @objective(m_msd, Min, s_mean_cost)\n",
    "\n",
    "    # If choose option 2, using the mean semi-deviation as objective\n",
    "    elseif option == 2\n",
    "        @objective(m_msd, Min, s_mean_cost + lambda*1/numscen*sum(s_max[s] for s in scenarios))\n",
    "    end\n",
    "\n",
    "    # Write all the constraints\n",
    "    @constraint(m_msd, ex_avg[s in scenarios], s_max[s] >= s_re_cost[s] - s_mean_cost)\n",
    "\n",
    "    @constraint(m_msd, record_cost[s in scenarios], s_re_cost[s] >= sum(r_salary[i]*s_regular[i,t] for i in r_employees, t in 1:T)\n",
    "        + sum(p_salary*s_part[t,s] for t in 1:T))\n",
    "\n",
    "    @constraint(m_msd, s_meetdemand[t in 1:T, s in scenarios],\n",
    "        p_prod*s_part[t,s] + sum(r_prod[i]*s_regular[i,t] for i in r_employees) >= demandscens[t,s])\n",
    "\n",
    "    @constraint(m_msd, s_regular_day_lhs[i in r_employees, w in 1:div(T,7)],\n",
    "        4 <= sum(s_regular[i,t] for t in 7*w-6:7*w))\n",
    "\n",
    "    @constraint(m_msd, s_regular_day_rhs[i in r_employees, w in 1:div(T,7)],\n",
    "        sum(s_regular[i,t] for t in 7*w-6:7*w) <= 6)\n",
    "\n",
    "    @constraint(m_msd, s_regular_conti[i in r_employees, d in 1:T-3],\n",
    "        sum(s_regular[i,t] for t in d:d+3) <= 3)\n",
    "\n",
    "    @constraint(m_msd, mean_cost, s_mean_cost == 1/numscen*sum(s_re_cost[s] for s in scenarios))\n",
    "\n",
    "    # Set optimizer and solve the model\n",
    "    set_optimizer(m_msd, HiGHS.Optimizer)\n",
    "    set_silent(m_msd)\n",
    "    optimize!(m_msd)\n",
    "\n",
    "    # Print Solution time and expected cost\n",
    "    println(\"Solution time: \", solve_time(m_msd))\n",
    "    println(\"Optimal value: \", objective_value(m_msd))\n",
    "\n",
    "    # Print the expected value of the objective\n",
    "    println(\"The expected value of the objective: \", value.(s_mean_cost))\n",
    "\n",
    "    # Print the risk measure of the objective\n",
    "    println(\"The risk measure of the objective: \", sum(value.(s_max))/numscen)\n",
    "end"
   ]
  },
  {
   "cell_type": "code",
   "execution_count": 6,
   "id": "6961dbb1-7eea-48c0-93c4-c79915bebd33",
   "metadata": {},
   "outputs": [
    {
     "name": "stdout",
     "output_type": "stream",
     "text": [
      "Solution time: 6.180672883987427\n",
      "Optimal value: 15008.093333333321\n",
      "The expected value of the objective: 15008.093333333321\n",
      "The risk measure of the objective: 118.93999999999961\n"
     ]
    }
   ],
   "source": [
    "### Q3. Original objective\n",
    "solve_esp_risk(1)"
   ]
  },
  {
   "cell_type": "code",
   "execution_count": 7,
   "id": "4d4ed9b3-c381-481d-92b1-61d13666c999",
   "metadata": {},
   "outputs": [
    {
     "name": "stdout",
     "output_type": "stream",
     "text": [
      "Solution time: 97.62464118003845\n",
      "Optimal value: 15126.587022222198\n",
      "The expected value of the objective: 15007.973333333306\n",
      "The risk measure of the objective: 118.6136888888926\n"
     ]
    }
   ],
   "source": [
    "### Q3. Mean semi-deviation\n",
    "solve_esp_risk(2)"
   ]
  },
  {
   "cell_type": "code",
   "execution_count": 8,
   "id": "3c132221-9f56-473c-a9c2-de4eaaba76c9",
   "metadata": {},
   "outputs": [
    {
     "name": "stdout",
     "output_type": "stream",
     "text": [
      "Solution time: 0.8157787322998047\n",
      "Optimal value: 14989.04\n",
      "candidate solution = (2-dimensional DenseAxisArray{Float64,2,...} with index sets:\n",
      "    Dimension 1, 1:10\n",
      "    Dimension 2, Base.OneTo(14)\n",
      "And data, a 10×14 Matrix{Float64}:\n",
      " 0.0  1.0  1.0  0.0  1.0  1.0  0.0   0.0   1.0   1.0   1.0  0.0  -0.0  1.0\n",
      " 1.0  1.0  1.0  0.0  0.0  0.0  1.0  -0.0   1.0   0.0   1.0  1.0   0.0  1.0\n",
      " 0.0  1.0  1.0  1.0  0.0  0.0  1.0   1.0   0.0   1.0  -0.0  0.0   1.0  1.0\n",
      " 0.0  1.0  0.0  1.0  1.0  0.0  1.0   0.0   1.0   0.0   1.0  1.0   1.0  0.0\n",
      " 1.0  0.0  1.0  0.0  1.0  1.0  0.0   1.0  -0.0  -0.0   1.0  1.0   1.0  0.0\n",
      " 1.0  0.0  0.0  0.0  1.0  1.0  1.0   0.0   1.0   1.0   1.0  0.0  -0.0  1.0\n",
      " 1.0  0.0  0.0  1.0  1.0  1.0  0.0   1.0   1.0   1.0   0.0  1.0   0.0  0.0\n",
      " 0.0  1.0  1.0  0.0  0.0  1.0  1.0   1.0  -0.0   1.0   0.0  1.0   1.0  0.0\n",
      " 1.0  0.0  1.0  1.0  1.0  0.0  0.0   1.0   0.0   0.0   1.0  1.0   0.0  1.0\n",
      " 1.0  1.0  0.0  1.0  0.0  1.0  0.0   0.0   1.0   1.0  -0.0  0.0   1.0  1.0)\n",
      "ci on solution expected cost = [14969.28,15024.464]\n",
      "Solution time: 0.7133219242095947\n",
      "Optimal value: 15018.719999999996\n",
      "Solution time: 0.7121150493621826\n",
      "Optimal value: 15085.76\n",
      "Solution time: 0.9508788585662842\n",
      "Optimal value: 15067.679999999877\n",
      "Solution time: 0.7742688655853271\n",
      "Optimal value: 14952.56\n",
      "Solution time: 0.9238791465759277\n",
      "Optimal value: 14998.079999999998\n",
      "Solution time: 0.12846899032592773\n",
      "Optimal value: 15016.56\n",
      "Solution time: 0.7467818260192871\n",
      "Optimal value: 14992.72\n",
      "Solution time: 0.7676870822906494\n",
      "Optimal value: 15061.28\n",
      "Solution time: 0.8659870624542236\n",
      "Optimal value: 14978.880000000001\n",
      "Solution time: 0.3145253658294678\n",
      "Optimal value: 15035.36\n",
      "Solution time: 0.7098031044006348\n",
      "Optimal value: 15021.12\n",
      "Solution time: 0.6922831535339355\n",
      "Optimal value: 15018.24\n",
      "Solution time: 0.9262180328369141\n",
      "Optimal value: 14988.56\n",
      "Solution time: 0.12671995162963867\n",
      "Optimal value: 15060.24\n",
      "Solution time: 0.8615307807922363\n",
      "Optimal value: 14983.919999999998\n",
      "mean gap estimate = 2.656\n",
      "95% c.i. on gap = [0, 3.242]\n"
     ]
    }
   ],
   "source": [
    "### Q4. Sample Average Approximation\n",
    "\n",
    "## Define the size of scenario, batch, evaluation set\n",
    "numscen = 50  # n\n",
    "numbatch = 15  # M\n",
    "numeval = 500 # N\n",
    "\n",
    "## First take one sample and solve to obtain a candidate solution\n",
    "demandscens_saa=Array{Float64}(undef,T,numscen)\n",
    "for s in 1:numscen\n",
    "    for t in 1:T\n",
    "        demandscens_saa[t,s]=round(rand(Normal(225,20)),digits=0)\n",
    "    end\n",
    "end\n",
    "\n",
    "objval,candx = solve_esp(demandscens_saa)\n",
    "println(\"candidate solution = (\",  round.(candx,digits=4), ')')\n",
    "\n",
    "## Define function for building and solving the second stage problem for a given value scenario and first-stage solution\n",
    "## Returns the objective value\n",
    "function solveSSP(xval,xival)\n",
    "    yvals = zeros(Float64,T)\n",
    "    for t in 1:T\n",
    "        yvals[t] = max((xival[t]-sum(r_prod[i]*xval[i,t] for i in r_employees))/p_prod, 0.0)\n",
    "    end\n",
    "    \n",
    "    return sum(r_salary[i]*xval[i,t] for i in r_employees, t in 1:T) + sum(p_salary*yvals[t] for t in 1:T)    \n",
    "end\n",
    "\n",
    "## Take a new sample to obtain an unbiased estimate of cost of the candidate solution and value of stochastic solution\n",
    "evalvals = zeros(Float64,numeval)\n",
    "evalscens = Array{Float64}(undef,T,numeval)\n",
    "for s in 1:numeval\n",
    "    for t in 1:T\n",
    "        evalscens[t,s]=round(rand(Normal(225,20)),digits=0)\n",
    "    end\n",
    "end\n",
    "\n",
    "for k in 1:numeval\n",
    "    evalvals[k] = solveSSP(candx, evalscens[:,k])\n",
    "end\n",
    "\n",
    "ubmean = mean(evalvals)\n",
    "ubwidth = std(evalvals)/sqrt(numeval)*2.145\n",
    "println(\"ci on solution expected cost = [\", round(ubmean-ubwidth,digits=3), ',', round(ubmean+ubwidth,digits=3), ']')\n",
    "\n",
    "## Do the procedure to estimate an optimality gap\n",
    "gapvals = zeros(Float64,numbatch)\n",
    "for k in 1:numbatch\n",
    "    # Set up and solve extensive form for a sample average approximation problem\n",
    "    cursample = Array{Float64}(undef,T,numscen)\n",
    "    for s in 1:numscen\n",
    "        for t in 1:T\n",
    "            cursample[t,s]=round(rand(Normal(225,20)),digits=0)\n",
    "        end\n",
    "    end\n",
    "\n",
    "    sampleopt,curx = solve_esp(cursample) \n",
    "\n",
    "    # Evaluate the candidate solution using the same scenarios\n",
    "    curvals = zeros(Float64,numscen)\n",
    "    for s in 1:numscen\n",
    "        curvals[s] = solveSSP(candx,cursample[:,s])\n",
    "    end\n",
    "    gapvals[k] = mean(curvals) - sampleopt \n",
    "end\n",
    "\n",
    "println(\"mean gap estimate = \", round(mean(gapvals),digits=3))\n",
    "println(\"95% c.i. on gap = [0, \", round(mean(gapvals) + std(gapvals)/sqrt(numbatch)*1.761,digits=3), ']')"
   ]
  }
 ],
 "metadata": {
  "kernelspec": {
   "display_name": "Julia 1.10.0",
   "language": "julia",
   "name": "julia-1.10"
  },
  "language_info": {
   "file_extension": ".jl",
   "mimetype": "application/julia",
   "name": "julia",
   "version": "1.10.0"
  }
 },
 "nbformat": 4,
 "nbformat_minor": 5
}
